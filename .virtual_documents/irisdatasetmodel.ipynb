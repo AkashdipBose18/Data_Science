import pandas as pd 
from sklearn.ensemble import RandomForestClassifier



data_train=pd.read_excel("iris_train.xlsx")









